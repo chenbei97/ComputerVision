{
 "cells": [
  {
   "cell_type": "code",
   "execution_count": 24,
   "id": "4ef81063",
   "metadata": {},
   "outputs": [],
   "source": [
    "import cv2\n",
    "import os\n",
    "import numpy as np\n",
    "xml = os.getcwd()+\"\\\\model\\\\haarcascades\\\\\" # 分类器文件夹xml ，多个分类器即可构成级联分类器"
   ]
  },
  {
   "cell_type": "code",
   "execution_count": 32,
   "id": "f25e0f9e",
   "metadata": {},
   "outputs": [],
   "source": [
    "\n",
    "face_model = cv2.CascadeClassifier(xml+\"\\\\haarcascade_frontalface_default.xml\")\n",
    "eye_model = cv2.CascadeClassifier(xml+\"\\\\haarcascade_eye.xml\")\n",
    "glass_model = cv2.CascadeClassifier(xml+\"\\\\haarcascade_eye_tree_eyeglasses.xml\")"
   ]
  },
  {
   "cell_type": "code",
   "execution_count": 41,
   "id": "48ac4bb2",
   "metadata": {},
   "outputs": [],
   "source": [
    "im = cv2.imread(os.getcwd()+\"\\\\images\\\\CZK.jpg\")\n",
    "face_xy_wh = face_model.detectMultiScale(im,scaleFactor=1.1)#scaleFactor扫描图像的缩放比例\n",
    "eye_xy_wh = eye_model.detectMultiScale(im,scaleFactor=1.1)#scaleFactor扫描图像的缩放比例\n",
    "glass_xy_wh = glass_model.detectMultiScale(im,scaleFactor=1.1)#scaleFactor扫描图像的缩放比例\n",
    "for (x,y,w,h) in face_xy_wh :\n",
    "    cv2.rectangle(im,(x,y),(x+w,y+h),(0,0,255),2)\n",
    "for (x,y,w,h) in eye_xy_wh :\n",
    "    cv2.rectangle(im,(x,y),(x+w,y+h),(0,255,0),2)\n",
    "for (x,y,w,h) in glass_xy_wh :\n",
    "    cv2.rectangle(im,(x,y),(x+w,y+h),(255,0,0),2)\n",
    "cv2.imshow('im',im[300:,400:,:])\n",
    "cv2.waitKey()\n",
    "cv2.destroyAllWindows()"
   ]
  },
  {
   "cell_type": "code",
   "execution_count": 46,
   "id": "1f1b66c0",
   "metadata": {},
   "outputs": [
    {
     "name": "stdout",
     "output_type": "stream",
     "text": [
      "(340, 280) (340, 280, 3) (340, 280, 3) (340, 280, 3) (340, 280, 3) (340, 280, 3) (340, 280, 3)\n",
      "0 0.0\n"
     ]
    }
   ],
   "source": [
    "'''Eigenface人脸识别'''\n",
    "images,labels=[],[0,0,0,1,1,1]\n",
    "images.append(cv2.imread(os.getcwd()+\"\\\\images\\\\summer1.png\"))\n",
    "images.append(cv2.imread(os.getcwd()+\"\\\\images\\\\summer2.png\"))\n",
    "images.append(cv2.imread(os.getcwd()+\"\\\\images\\\\summer3.png\"))\n",
    "images.append(cv2.imread(os.getcwd()+\"\\\\images\\\\Elvis1.png\"))\n",
    "images.append(cv2.imread(os.getcwd()+\"\\\\images\\\\Elvis2.png\"))\n",
    "images.append(cv2.imread(os.getcwd()+\"\\\\images\\\\Elvis2.png\"))\n",
    "test = cv2.imread(os.getcwd()+\"\\\\images\\\\summer4.png\",0)\n",
    "print(test.shape,images[0].shape,images[1].shape,images[2].shape,images[3].shape,images[4].shape,images[-1].shape)\n",
    "model = cv2.face.EigenFaceRecognizer_create()\n",
    "model.train(images,np.array(labels))\n",
    "pred,score=model.predict(test) # 必须是灰度图\n",
    "print(pred,score) # 预测是summer"
   ]
  },
  {
   "cell_type": "code",
   "execution_count": null,
   "id": "021df6a5",
   "metadata": {},
   "outputs": [],
   "source": [
    "'''FisherFace人脸识别'''\n",
    "cv2.face.FisherFaceRecognizer_create(num_components,threshold)\n",
    "'''LBPH人脸识别'''\n",
    "cv2.face.LBPHFaceRecognizer_create(radius,neighbors,grid_x,grid_y,threshold)"
   ]
  }
 ],
 "metadata": {
  "kernelspec": {
   "display_name": "Python 3 (ipykernel)",
   "language": "python",
   "name": "python3"
  },
  "language_info": {
   "codemirror_mode": {
    "name": "ipython",
    "version": 3
   },
   "file_extension": ".py",
   "mimetype": "text/x-python",
   "name": "python",
   "nbconvert_exporter": "python",
   "pygments_lexer": "ipython3",
   "version": "3.7.3"
  }
 },
 "nbformat": 4,
 "nbformat_minor": 5
}
