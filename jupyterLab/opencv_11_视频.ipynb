{
 "cells": [
  {
   "cell_type": "code",
   "execution_count": 13,
   "id": "420dfe8c",
   "metadata": {},
   "outputs": [],
   "source": [
    "import cv2\n",
    "capture_inner = cv2.VideoCapture(0,cv2.CAP_DSHOW) # index=0内置摄像头 =1外置 cv2.CAP_DSHOW启动比较快\n",
    "capture_outer = cv2.VideoCapture(1,cv2.CAP_DSHOW) # 打不开\n",
    "while  (capture_inner.isOpened() or capture_outer.isOpened()) :\n",
    "    retval_inner , image_inner = capture_inner.read()\n",
    "    retval_outer , image_outer = capture_outer.read()\n",
    "    #print(retval_inner,retval_outer)\n",
    "    if retval_inner : # 如果读取到帧\n",
    "        cv2.imshow('inner',image_inner)\n",
    "        key = cv2.waitKey(1) # 刷新率\n",
    "        if key == 32:\n",
    "                break # 空格键退出while循环\n",
    "    if retval_outer :\n",
    "        cv2.imshow('outer',image_outer)\n",
    "        key = cv2.waitKey(1) # 刷新率\n",
    "        if key == 32:\n",
    "                break # 空格键退出while循环\n",
    "capture_inner.release()\n",
    "capture_outer.release()\n",
    "cv2.destroyAllWindows()"
   ]
  },
  {
   "cell_type": "code",
   "execution_count": 17,
   "id": "e4c09f28",
   "metadata": {},
   "outputs": [
    {
     "data": {
      "text/plain": [
       "16"
      ]
     },
     "execution_count": 17,
     "metadata": {},
     "output_type": "execute_result"
    }
   ],
   "source": [
    "cv2.CAP_PROP_POS_MSEC # 视频播放的位置 单位ms\n",
    "cv2.CAP_PROP_POS_FRAMES # 帧的索引从0开始\n",
    "cv2.CAP_PROP_POS_AVI_RATIO #视频文件的相对位置 0表示开始播放 1结束\n",
    "cv2.CAP_PROP_FRAME_WIDTH # 帧宽度\n",
    "cv2.CAP_PROP_FRAME_HEIGHT # 帧高度\n",
    "cv2.CAP_PROP_FPS # 帧速率\n",
    "cv2.CAP_PROP_FRAME_COUNT # 帧数\n",
    "cv2.CAP_PROP_FOURCC # 4个字符表示的视频编码格式\n",
    "cv2.CAP_PROP_FORMAT # retrieve方法返回的Mat对象的格式\n",
    "cv2.CAP_PROP_MODE # 当前捕获模式的后端专用值\n",
    "cv2.CAP_PROP_CONVERT_RGB # 是否图像转为RGB"
   ]
  },
  {
   "cell_type": "code",
   "execution_count": 16,
   "id": "e7e647a4",
   "metadata": {},
   "outputs": [
    {
     "data": {
      "text/plain": [
       "808596553"
      ]
     },
     "execution_count": 16,
     "metadata": {},
     "output_type": "execute_result"
    }
   ],
   "source": [
    "cv2.VideoWriter_fourcc('I','4','2','0') # 视频格式"
   ]
  },
  {
   "cell_type": "code",
   "execution_count": null,
   "id": "643964fb",
   "metadata": {},
   "outputs": [],
   "source": []
  }
 ],
 "metadata": {
  "kernelspec": {
   "display_name": "Python 3 (ipykernel)",
   "language": "python",
   "name": "python3"
  },
  "language_info": {
   "codemirror_mode": {
    "name": "ipython",
    "version": 3
   },
   "file_extension": ".py",
   "mimetype": "text/x-python",
   "name": "python",
   "nbconvert_exporter": "python",
   "pygments_lexer": "ipython3",
   "version": "3.7.3"
  }
 },
 "nbformat": 4,
 "nbformat_minor": 5
}
