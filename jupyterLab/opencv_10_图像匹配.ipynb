{
 "cells": [
  {
   "cell_type": "code",
   "execution_count": 1,
   "id": "b7a48157",
   "metadata": {},
   "outputs": [],
   "source": [
    "import os\n",
    "import cv2\n",
    "import numpy as np"
   ]
  },
  {
   "cell_type": "code",
   "execution_count": null,
   "id": "808c24a5",
   "metadata": {},
   "outputs": [
    {
     "name": "stdout",
     "output_type": "stream",
     "text": [
      "target(x,y)=(331,379) minVal=0.00010066070535685867\n"
     ]
    }
   ],
   "source": [
    "'''单模板单目标匹配'''\n",
    "'''简单情况：原始图像有不同目标，模板匹配一个'''\n",
    "background = cv2.imread(os.getcwd()+\"\\\\images\\\\background.jpg\")\n",
    "temp1 = cv2.imread(os.getcwd()+\"\\\\images\\\\template.png\")\n",
    "height , width , c = temp1.shape # 行对应高\n",
    "result = cv2.matchTemplate(background,temp1,cv2.TM_SQDIFF_NORMED)\n",
    "# templ 模板图像\n",
    "# method的方法\n",
    "# cv2.TM_SQDIFF =0 平方差匹配 匹配程度越高计算结果越小 完全匹配的结果为0\n",
    "# cv2.TM_SQDIFF_NORMED =1 标准平方差匹配\n",
    "# cv2.TM_CCORR =2 相关匹配，匹配程度越高计算结果越大\n",
    "# cv2.TM_CCORR_NORMED =3 标准相关匹配\n",
    "# cv2.TM_CCOEFF =4 相关系数匹配 计算结果为-1~1之间的浮点数，1表示完全匹配，0表示毫无关系，-1表示亮度刚好相反\n",
    "# cv2.TM_CCOEFF_NORMED # 标准相关系数匹配\n",
    "# mask 只对cv2.TM_SQDIFF和cv2.TM_CCORR_NORMED支持\n",
    "minVal, maxVal, minLoc, maxLoc = cv2.minMaxLoc(result)\n",
    "target_left_up_x ,target_left_up_y = minLoc # 最匹配的像素左上角坐标，匹配系数minVal\n",
    "target_rigth_down_x,target_rigth_down_y =target_left_up_x + width  ,target_left_up_y + height\n",
    "target = (target_rigth_down_x,target_rigth_down_y)# 右下角坐标\n",
    "print(f\"target(x,y)=({target_left_up_x},{target_left_up_y}) minVal={minVal}\")\n",
    "# minMaxLoc(src[, mask]) -> minVal, maxVal, minLoc, maxLoc\n",
    "# 返回的minVal为数组的最小值，maxVal最大值，对于平方差匹配找到minVal所处的索引坐标（x，y）minLoc，其他则是找到最大的坐标maxLoc\n",
    "cv2.rectangle(background,minLoc,target,(0,0,255),2)\n",
    "cv2.imshow('background',background)\n",
    "cv2.imshow('template',temp1)\n",
    "cv2.waitKey()\n",
    "cv2.destroyAllWindows()"
   ]
  },
  {
   "cell_type": "code",
   "execution_count": 26,
   "id": "9bf845f4",
   "metadata": {},
   "outputs": [
    {
     "name": "stdout",
     "output_type": "stream",
     "text": [
      "[[0.38154617 0.38201162 0.38246095 ... 1.         1.         1.        ]\n",
      " [0.38246876 0.3829326  0.38339502 ... 1.         1.         1.        ]\n",
      " [0.38340285 0.38386446 0.38433874 ... 1.         1.         1.        ]\n",
      " ...\n",
      " [0.3751112  0.37644726 0.37782952 ... 0.39742836 0.39644328 0.39548334]\n",
      " [0.37416846 0.37551406 0.3769138  ... 0.396822   0.39586458 0.39490384]\n",
      " [0.37324706 0.37458292 0.37597787 ... 0.3960817  0.39514837 0.3941699 ]] (451, 410) (451, 410)\n",
      "\n",
      "\n",
      "[[0.36223736 0.36225468 0.36225897 ... 1.         1.         1.        ]\n",
      " [0.36141506 0.36143646 0.3614439  ... 1.         1.         1.        ]\n",
      " [0.36058593 0.36060953 0.36062354 ... 1.         1.         1.        ]\n",
      " ...\n",
      " [0.40099543 0.40264174 0.40429923 ... 0.7776425  0.7753703  0.7730494 ]\n",
      " [0.40201414 0.40365487 0.40531093 ... 0.7776382  0.77544826 0.7732217 ]\n",
      " [0.40303096 0.4046648  0.4063131  ... 0.7776284  0.77551645 0.7733851 ]] (2675, 3642) (2675, 3642)\n",
      "\n",
      "\n",
      "[(0.5066021, 0.014943199), (0.7361401, 0.0739)]\n"
     ]
    }
   ],
   "source": [
    "'''eg1：对比情况：2个相同目标的原始图像，模板匹配最好的'''\n",
    "template = cv2.imread(os.getcwd()+\"\\\\images\\\\warningSign.jpg\")\n",
    "sign1 = cv2.imread(os.getcwd()+\"\\\\images\\\\warningSign1.jpg\")\n",
    "sign2 = cv2.imread(os.getcwd()+\"\\\\images\\\\warningSign2.jpg\")\n",
    "lst = []\n",
    "for i in [sign1,sign2]:\n",
    "    result = cv2.matchTemplate(i,template,cv2.TM_SQDIFF_NORMED)\n",
    "    print(result,result.shape,(i.shape[0]-template.shape[0]+1,i.shape[1]-template.shape[1]+1)) # W-w+1/H-h+1\n",
    "    # print(result.any())\n",
    "    lst.append((np.mean(result),np.var(result)))\n",
    "    print(\"\\n\")\n",
    "print(lst) # 比较匹配结果的均值和方差，显然第1个更匹配，事实上也是更匹配"
   ]
  },
  {
   "cell_type": "code",
   "execution_count": 99,
   "id": "1268d7ae",
   "metadata": {},
   "outputs": [
    {
     "name": "stdout",
     "output_type": "stream",
     "text": [
      "[[-0.22887117]]\n"
     ]
    },
    {
     "data": {
      "text/plain": [
       "[(2, 5), (2, 8), (3, 6), (3, 10), (5, 8), (6, 10)]"
      ]
     },
     "execution_count": 99,
     "metadata": {},
     "output_type": "execute_result"
    }
   ],
   "source": [
    "'''eg2：不同格式的图像文件查找重复的图片'''\n",
    "root = r\"C:\\\\Users\\\\chenb\\\\jupyterLab\\\\images\\\\test\\\\\"\n",
    "rescale = (100,100) # width,height\n",
    "image_paths = os.listdir(root)\n",
    "img_lst = []\n",
    "corr_lst = [] # 相关系数存放\n",
    "match_lst = [] # 所有匹配对\n",
    "match_idx = [] # 匹配系数满足条件的匹配对\n",
    "for image_path in image_paths:\n",
    "    path = root + image_path\n",
    "    #print(path)\n",
    "    im = cv2.imread(path)\n",
    "    im = cv2.resize(im,rescale)\n",
    "    img_lst.append(im)\n",
    "for j in range(len(img_lst)-1):\n",
    "    # print(j)\n",
    "    current_template = img_lst[j] #当前模板图像依次等于0,1,2...8\n",
    "    idx = j \n",
    "    for i in img_lst[j+1:]:\n",
    "        idx += 1 \n",
    "        #print(f\"模板图像：{j+1}.jpg,匹配图像：{idx+1}.jpg\") # 检验i的循环次数是否符合预期\n",
    "        match_lst.append((j+1,idx+1)) # 符合习惯，第1个图像是0.jpg\n",
    "        result = cv2.matchTemplate(i,current_template,cv2.TM_CCOEFF_NORMED)\n",
    "        if j==3 and idx==9 : # 第4个图像和第10个图像的匹配结果\n",
    "            print(result)\n",
    "        corr_lst.append(result[0])\n",
    "# print(len(corr_lst))\n",
    "assert len(corr_lst) == np.cumsum(np.arange(10))[-1] == len(match_lst) # 1+2+3..+9 ,累积匹配了45次\n",
    "for idx ,value in enumerate(corr_lst):\n",
    "    #print(value)\n",
    "    if value > 0.5:\n",
    "       match_idx.append(match_lst[idx])\n",
    "match_idx"
   ]
  },
  {
   "cell_type": "code",
   "execution_count": 96,
   "id": "34375400",
   "metadata": {},
   "outputs": [],
   "source": [
    "'''单模板多目标匹配'''\n",
    "background = cv2.imread(os.getcwd()+\"\\\\images\\\\background2.jpg\")\n",
    "temp = cv2.imread(os.getcwd()+\"\\\\images\\\\template.png\")\n",
    "height , width , c = temp.shape # 行对应高\n",
    "result = cv2.matchTemplate(background,temp,cv2.TM_CCOEFF_NORMED)\n",
    "for row in range(result.shape[0]): # Height\n",
    "    for col in range(result.shape[1]): # Width\n",
    "        if result[row,col] > 0.99 :\n",
    "            cv2.rectangle(background,(col,row),(col+width,height+row),(0,0,255),2)\n",
    "cv2.imshow('im',background)\n",
    "cv2.waitKey()\n",
    "cv2.destroyAllWindows()"
   ]
  },
  {
   "cell_type": "code",
   "execution_count": null,
   "id": "3436a939",
   "metadata": {},
   "outputs": [],
   "source": [
    "'''多模板多目标匹配，只需要进行多次单模板多目标匹配即可'''"
   ]
  },
  {
   "cell_type": "code",
   "execution_count": null,
   "id": "cf3fbf74",
   "metadata": {},
   "outputs": [],
   "source": []
  }
 ],
 "metadata": {
  "kernelspec": {
   "display_name": "Python 3 (ipykernel)",
   "language": "python",
   "name": "python3"
  },
  "language_info": {
   "codemirror_mode": {
    "name": "ipython",
    "version": 3
   },
   "file_extension": ".py",
   "mimetype": "text/x-python",
   "name": "python",
   "nbconvert_exporter": "python",
   "pygments_lexer": "ipython3",
   "version": "3.7.3"
  }
 },
 "nbformat": 4,
 "nbformat_minor": 5
}
