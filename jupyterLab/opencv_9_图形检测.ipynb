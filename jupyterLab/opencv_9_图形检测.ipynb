{
 "cells": [
  {
   "cell_type": "code",
   "execution_count": 2,
   "id": "f422ad18",
   "metadata": {},
   "outputs": [],
   "source": [
    "import os\n",
    "import cv2\n",
    "import numpy as np"
   ]
  },
  {
   "cell_type": "code",
   "execution_count": 5,
   "id": "c528ea16",
   "metadata": {},
   "outputs": [
    {
     "name": "stderr",
     "output_type": "stream",
     "text": [
      "c:\\users\\chenb\\appdata\\local\\programs\\python\\python37\\lib\\site-packages\\ipykernel_launcher.py:18: VisibleDeprecationWarning: Creating an ndarray from ragged nested sequences (which is a list-or-tuple of lists-or-tuples-or ndarrays with different lengths or shapes) is deprecated. If you meant to do this, you must specify 'dtype=object' when creating the ndarray\n"
     ]
    },
    {
     "name": "stdout",
     "output_type": "stream",
     "text": [
      "(199,) (1, 199, 4)\n"
     ]
    }
   ],
   "source": [
    "im = cv2.imread(os.getcwd()+\"\\images\\lena.jpg\")\n",
    "grey = cv2.cvtColor(im,cv2.COLOR_BGR2GRAY)\n",
    "best_threold,binary = cv2.threshold(grey,127,255,cv2.THRESH_BINARY)\n",
    "# 被检测的图像必须是8位单通道二值图像\n",
    "# mode为轮廓的检索模式\n",
    "# cv2.RETR_LIST 检测所有轮廓不建立层次关系\n",
    "# cv2.RETR_CCOMP 检测所有轮廓，建立两级层级关系\n",
    "# cv2.RETR_EXTERNAL 只检测外轮廓\n",
    "# cv2.RETR_TREE 检测所有轮廓，简历树状层级关系\n",
    "# method为检测轮廓的方法\n",
    "# cv2.CHAIN_APPROX_NONE  储存轮廓上的所有点\n",
    "# cv2.CHAIN_APPROX_SIMPLE  只保存水平、垂直或对角线轮廓的端点\n",
    "# cv2.CHAIN_APPROX_TC89_L1  Ten_Chinl近似算法的一种\n",
    "# cv2.CHAIN_APPROX_TC89_KCOS  Ten_Chinl近似算法的一种\n",
    "contours , hierarchy = cv2.findContours(binary,mode=cv2.RETR_TREE,method=cv2.CHAIN_APPROX_TC89_KCOS)\n",
    "# contours 返回list ，每个list都是一组像素点的坐标，变为array是向量\n",
    "# hierarchy # 轮廓之间的层级关系\n",
    "print(np.array(contours).shape,np.array(hierarchy).shape)\n",
    "# image可以是多通道图像\n",
    "# contours和hierarchy是findContours方法的返回值\n",
    "# contourIdx绘制轮廓的索引，=-1表示全部绘制,索引小于contours的长度\n",
    "# maxLevel 绘制轮廓的层次深度\n",
    "# offset 偏移量，可以改变绘制结果的位置\n",
    "im_re = cv2.drawContours(image=im,contours=contours,contourIdx=len(contours)-1,color=[0,255,0],\n",
    "                 thickness=0,lineType=8,hierarchy=hierarchy,maxLevel=0,offset=None)\n",
    "cv2.imshow(\"binary\",binary)\n",
    "cv2.imshow(\"im_re\",im_re)\n",
    "cv2.waitKey(4000)\n",
    "cv2.destroyAllWindows()"
   ]
  },
  {
   "cell_type": "code",
   "execution_count": 69,
   "id": "450b4791",
   "metadata": {},
   "outputs": [],
   "source": [
    "'''矩形框'''\n",
    "im = cv2.imread(os.getcwd()+\"\\\\images\\\\explode.png\")\n",
    "grey = cv2.cvtColor(im,cv2.COLOR_BGRA2GRAY)\n",
    "best_threold,binary = cv2.threshold(grey,127,255,cv2.THRESH_BINARY)\n",
    "#轮廓拟合矩形框需要找轮廓的水平垂直对角线端点\n",
    "contours , hierarchy = cv2.findContours(binary,mode=cv2.RETR_LIST,method=cv2.CHAIN_APPROX_SIMPLE)\n",
    "# array 轮廓数组，一般是contours的某个list\n",
    "# retval=x,y,w,h 依据轮廓数组的端点返回矩形的坐标返回元组\n",
    "# 包含4个整数值，对应左上角的横、纵坐标以及矩形的宽和高\n",
    "x,y,w,h = cv2.boundingRect(array=contours[-1])#最后1个轮廓\n",
    "cv2.rectangle(im,pt1=(x,y),pt2=(x+w,y+h),color=[0,0,255],thickness=2)\n",
    "cv2.imshow('im',im)\n",
    "cv2.waitKey(3000)\n",
    "cv2.destroyAllWindows()"
   ]
  },
  {
   "cell_type": "code",
   "execution_count": 68,
   "id": "46462cc7",
   "metadata": {},
   "outputs": [
    {
     "name": "stdout",
     "output_type": "stream",
     "text": [
      "[316] 316 316 0\n"
     ]
    }
   ],
   "source": [
    "'''圆形框'''\n",
    "im = cv2.imread(os.getcwd()+\"\\\\images\\\\explode.png\")\n",
    "grey = cv2.cvtColor(im,cv2.COLOR_BGRA2GRAY)\n",
    "best_threold,binary = cv2.threshold(grey,127,255,cv2.THRESH_BINARY)\n",
    "#轮廓拟合圆形框需要找轮廓的水平垂直对角线端点\n",
    "contours , hierarchy = cv2.findContours(binary,mode=cv2.RETR_LIST,method=cv2.CHAIN_APPROX_SIMPLE)\n",
    "# points 轮廓数组，一般是contours的某个list\n",
    "# center 包含2个整数值，圆心坐标\n",
    "# radius 半径\n",
    "len_contour = []\n",
    "for contour in contours:\n",
    "    len_contour.append(len(contour))\n",
    "# print(len_contour) # 每个轮廓点的数目\n",
    "lst = sorted(list(set(len_contour)))#\n",
    "value = lst[0] # 2/3大小的轮廓点数目\n",
    "idxs = []\n",
    "# 找到指定轮廓点数目对应的索引\n",
    "for idx,val in enumerate(len_contour):\n",
    "    if val == value:\n",
    "        idxs.append(idx)\n",
    "print(lst,value,len_contour[idxs[0]],idxs[0])\n",
    "center,radius = cv2.minEnclosingCircle(points=contours[idxs[0]])\n",
    "x,y,radius = int(round(center[0])),int(round(center[1])),int(radius)\n",
    "cv2.circle(im,center=(x,y),radius=radius,color=[0,0,255],thickness=2)\n",
    "cv2.imshow('im',im)\n",
    "cv2.waitKey(3000)\n",
    "cv2.destroyAllWindows()"
   ]
  },
  {
   "cell_type": "code",
   "execution_count": 70,
   "id": "006a7969",
   "metadata": {},
   "outputs": [],
   "source": [
    "'''凸包'''\n",
    "im = cv2.imread(os.getcwd()+\"\\\\images\\\\explode.png\")\n",
    "grey = cv2.cvtColor(im,cv2.COLOR_BGRA2GRAY)\n",
    "best_threold,binary = cv2.threshold(grey,127,255,cv2.THRESH_BINARY)\n",
    "contours , hierarchy = cv2.findContours(binary,mode=cv2.RETR_LIST,method=cv2.CHAIN_APPROX_SIMPLE)\n",
    "hull = cv2.convexHull(contours[0])\n",
    "cv2.polylines(im,[hull],True,(0,0,255),2)#绘制凸包\n",
    "cv2.imshow('im',im)\n",
    "cv2.waitKey(3000)\n",
    "cv2.destroyAllWindows()"
   ]
  },
  {
   "cell_type": "code",
   "execution_count": 73,
   "id": "ab41346e",
   "metadata": {},
   "outputs": [],
   "source": [
    "'''Canny边缘检测'''\n",
    "im = cv2.imread(os.getcwd()+\"\\\\images\\\\flower.png\")\n",
    "r1 = cv2.Canny(im,10,50)\n",
    "r2 = cv2.Canny(im,100,200)\n",
    "r3 = cv2.Canny(im,400,600) # 返回的是二值图像\n",
    "cv2.imshow('im1',r1)\n",
    "cv2.imshow('im2',r2)\n",
    "cv2.imshow('im3',r3)\n",
    "cv2.waitKey()\n",
    "cv2.destroyAllWindows()"
   ]
  },
  {
   "cell_type": "code",
   "execution_count": 108,
   "id": "4cc85b89",
   "metadata": {},
   "outputs": [
    {
     "name": "stdout",
     "output_type": "stream",
     "text": [
      "线空间shape (22, 1, 4)\n",
      "线空间 [[ 34 256 141 181]]\n",
      "线空间 [[200 267 210  94]]\n",
      "线空间 [[246 246 290  42]]\n",
      "线空间 [[263 279 302 125]]\n",
      "线空间 [[ 24 253 181 139]]\n",
      "线空间 [[ 68 206 230  80]]\n",
      "线空间 [[190 141 295  64]]\n",
      "线空间 [[126 190 253 104]]\n",
      "线空间 [[256 264 299  89]]\n",
      "线空间 [[ 50 241 169 154]]\n",
      "线空间 [[260 262 313  52]]\n",
      "线空间 [[242 285 285  97]]\n",
      "线空间 [[179 272 187 152]]\n",
      "线空间 [[276 231 316  69]]\n",
      "线空间 [[184 134 298  51]]\n",
      "线空间 [[160 148 298  44]]\n",
      "线空间 [[195 120 299  42]]\n",
      "线空间 [[ 46 238 181 140]]\n",
      "线空间 [[186 180 268  71]]\n",
      "线空间 [[182 239 194  70]]\n",
      "线空间 [[238 281 265 156]]\n",
      "线空间 [[267 153 289  50]]\n",
      "(401, 753, 3)\n",
      "圆空间shape (1, 23, 3)\n",
      "x=184,y=208,r=177\n",
      "x=564,y=204,r=169\n"
     ]
    }
   ],
   "source": [
    "'''霍夫变换'''\n",
    "'''线检测'''\n",
    "im1 = cv2.imread(os.getcwd()+\"\\\\images\\\\pen.jpg\")\n",
    "im1_blur = cv2.medianBlur(im1,5)\n",
    "grey1 = cv2.cvtColor(im1_blur,cv2.COLOR_BGR2GRAY)\n",
    "binary1 = cv2.Canny(grey,50,100) # 二值\n",
    "# 每个可能的搜索半径都遍历，每个角度也都遍历，检测线长度要求>100，间距＞18\n",
    "# 返回形如[[[x1,y1,x2,y2],[x3,y3,x4,y4]]]\n",
    "lines = cv2.HoughLinesP(binary1,rho=1,theta=np.pi/180,threshold=15,minLineLength=100,maxLineGap=18)\n",
    "print(\"线空间shape\",lines.shape) # 第一维表示可能的直线数量\n",
    "for line in lines :\n",
    "    print(\"线空间\",line) # 有多个直线 shape=(1,4),line.shape\n",
    "    x1,y1,x2,y2 = line[0] # 直线2个端点的坐标，还是二维的需要\n",
    "    cv2.line(im1,(x1,y1),(x2,y2),(0,0,255),2)\n",
    "'''圆检测'''\n",
    "im2 = cv2.imread(os.getcwd()+\"\\\\images\\\\coin.jpg\")\n",
    "print(im2.shape)\n",
    "im2_blur = cv2.medianBlur(im2,7) # 霍夫变换前必须去噪处理\n",
    "grey2 = cv2.cvtColor(im2_blur,cv2.COLOR_BGR2GRAY)\n",
    "binary2 = cv2.Canny(grey2,80,110) # 二值\n",
    "# method opencv4.0以前只提供唯一的方法cv2.HOUGH_GRADIENT\n",
    "# dp 累加器分辨率与原始图像分辨率之比的倒数，等于1时表示具有相同分辨率，为2时为原图分辨率的1/2\n",
    "# minDist 圆心之间的最小距离\n",
    "# param1 可选，Canny 边缘检测的最大阈值\n",
    "# param2 可选，检测圆环结果的投票数，第一轮投票数超过该值的圆才会进入第二轮，越大检测的圆越少\n",
    "# minRadius 圆最小半径\n",
    "# maxRadius 圆最大半径\n",
    "# circles 返回霍夫圆空间数组，每个数组内还是数组，记录了圆心坐标和半径，形如[[[x1,y1,r1],[x2,y2,r2]]]\n",
    "circles = cv2.HoughCircles(binary2,method=cv2.HOUGH_GRADIENT,dp=1,minDist=100,param1=100,param2=25,minRadius=150,maxRadius=None)\n",
    "circles = np.uint(np.round(circles)) # 像素坐标只能是整数\n",
    "print(\"圆空间shape\",circles.shape)# 第一维表示可能的圆空间数量，第二维才是可能的圆数量\n",
    "for circle in circles[0]: # 第2维\n",
    "    #print(\"圆空间\",circle,circle.shape)\n",
    "    x,y,r=circle\n",
    "    if r>x or r>y or y+r>im2.shape[0] or x+r>im2.shape[1] : # 半径超过了范围不是整圆一定错误\n",
    "        pass\n",
    "    else:   \n",
    "        print(f\"x={x},y={y},r={r}\")\n",
    "        cv2.circle(im2,(x,y),r,(0,0,255),3)\n",
    "        cv2.circle(im2,(x,y),2,(0,255,0),10) # 绘制圆心  \n",
    "cv2.imshow('im1',im1)\n",
    "cv2.imshow('im2',im2)\n",
    "cv2.waitKey()\n",
    "cv2.destroyAllWindows()"
   ]
  },
  {
   "cell_type": "code",
   "execution_count": null,
   "id": "88282856",
   "metadata": {},
   "outputs": [],
   "source": []
  }
 ],
 "metadata": {
  "kernelspec": {
   "display_name": "Python 3 (ipykernel)",
   "language": "python",
   "name": "python3"
  },
  "language_info": {
   "codemirror_mode": {
    "name": "ipython",
    "version": 3
   },
   "file_extension": ".py",
   "mimetype": "text/x-python",
   "name": "python",
   "nbconvert_exporter": "python",
   "pygments_lexer": "ipython3",
   "version": "3.7.3"
  }
 },
 "nbformat": 4,
 "nbformat_minor": 5
}
